{
 "cells": [
  {
   "cell_type": "code",
   "execution_count": null,
   "id": "f72f2e5c",
   "metadata": {
    "id": "f72f2e5c"
   },
   "outputs": [],
   "source": [
    "import pandas as pd \n",
    "import numpy as np"
   ]
  },
  {
   "cell_type": "markdown",
   "id": "dfe2bf41",
   "metadata": {
    "id": "dfe2bf41"
   },
   "source": [
    "# Label - Quarantine reviews"
   ]
  },
  {
   "cell_type": "code",
   "execution_count": null,
   "id": "2bb825ea",
   "metadata": {
    "id": "2bb825ea"
   },
   "outputs": [],
   "source": [
    "Quan = pd.read_excel('../data/data_Quarantine.xlsx', sheet_name='data')"
   ]
  },
  {
   "cell_type": "code",
   "execution_count": null,
   "id": "1a9a5b7e",
   "metadata": {
    "id": "1a9a5b7e",
    "outputId": "07c8b336-c331-42be-fb7c-784054942aa0"
   },
   "outputs": [
    {
     "name": "stderr",
     "output_type": "stream",
     "text": [
      "NumExpr defaulting to 8 threads.\n"
     ]
    }
   ],
   "source": [
    "#combine review title and review main text content\n",
    "Quan[\"customer review text all\"] = Quan[\"customer review Title\"].astype(str) + \" \" + Quan[\"customer review text\"].astype(str)\n",
    "\n",
    "#lowercase\n",
    "Quan[\"customer review text all\"] = Quan[\"customer review text all\"].str.lower()\n",
    "Quan[\"hotel reply text\"] = Quan[\"hotel reply text\"].str.lower()"
   ]
  },
  {
   "cell_type": "code",
   "execution_count": null,
   "id": "4e65d1fa",
   "metadata": {
    "id": "4e65d1fa",
    "outputId": "498a8dbd-18fb-492f-9e94-6ed4d7f1345c"
   },
   "outputs": [
    {
     "name": "stderr",
     "output_type": "stream",
     "text": [
      "/opt/anaconda3/lib/python3.8/site-packages/pandas/core/strings/accessor.py:101: UserWarning: This pattern has match groups. To actually get the groups, use str.extract.\n",
      "  return func(self, *args, **kwargs)\n"
     ]
    }
   ],
   "source": [
    "#new columns for labelling, see if text contain keyword, mark yes for 1 , no for 0\n",
    "\n",
    "Quan['label_air'] = np.where(Quan['customer review text all'].str.contains('( air )|(air-con)'),1,0)\n",
    "Quan['label_facilities'] = np.where(Quan['customer review text all'].str.contains('(?=.*amenit)|(?=.*facilit)|(?=.*gym)|(?=.*pool)|(?=.*swim)|(?=.*yoga)'),1,0)\n",
    "Quan['label_food'] = np.where(Quan['customer review text all'].str.contains('(?=.*breakfast)|(?=.*buffet)|(?=.*delici)|(?=.*dinner)|(?=.*dish)|(?=.*food)|(?=.*lunch)|(?=.*meal)|(?=.*restaurant)|(?=.*taste)|(?=.*tea)'),1,0)\n",
    "Quan['label_hygiene'] = np.where(Quan['customer review text all'].str.contains('(?=.*clean)|(?=.*contactless)|(?=.*detergent)|(?=.*dirt)|(?=.*disinfect)|(?=.*health)|(?=.*hygien)|(?=.*safe)|(?=.*sanitiser)|(?=.*sanitizer)'),1,0)\n",
    "Quan['label_infoSeeking'] = np.where(Quan['customer review text all'].str.contains('(?=.*call)|(?=.*communicat)|(?=.*deliver)|(?=.*efficient)|(?=.*email)|(?=.*immediate)|(?=.*info)|(?=.*message)|(?=.*phone)|(?=.*prompt)|(?=.*request)|(?=.*respon)|(?=.*suppl)|(?=.*whatsapp)'),1,0)\n",
    "Quan['label_location'] = np.where(Quan['customer review text all'].str.contains('(?=.*loc)|(?=.*mtr)|(?=.*subway)|(?=.*transport)|(?=.*walk)'),1,0)\n",
    "Quan['label_price'] = np.where(Quan['customer review text all'].str.contains('(?=.*budget)|(?=.*charge)|(?=.*compens)|(?=.*cost)|(?=.*money)|(?=.*price)|(?=.*upgrade)|(?=.*value)|(?=.*worth)'),1,0)\n",
    "Quan['label_room'] = np.where(Quan['customer review text all'].str.contains('(?=.*bathroom)|(?=.*bed)|(?=.*fridge)|(?=.*harbo)|(?=.*light)|(?=.*nois)|(?=.*quiet)|(?=.*sea)|(?=.*shower)|(?=.*spac)|(?=.*table)|(?=.*toilet)|(?=.*view)|(?=.*window)'),1,0)\n",
    "Quan['label_service'] = np.where(Quan['customer review text all'].str.contains('(?=.*considerate)|(?=.*effort)|(?=.*friendl)|(?=.*help)|(?=.*kind)|(?=.*manager)|(?=.*profession)|(?=.*reception)|(?=.*rude)|(?=.*service)|(?=.*staff)|(?=.*support)'),1,0)\n",
    "Quan['label_wifi'] = np.where(Quan['customer review text all'].str.contains('(?=.*internet)|(?=.*wi-fi)|(?=.*wifi)'),1,0)"
   ]
  },
  {
   "cell_type": "code",
   "execution_count": null,
   "id": "af59a096",
   "metadata": {
    "id": "af59a096",
    "outputId": "d5b72dd0-faf7-4340-da5b-76cd3e583b00"
   },
   "outputs": [
    {
     "name": "stdout",
     "output_type": "stream",
     "text": [
      "Saved.\n"
     ]
    }
   ],
   "source": [
    "Quan.to_csv(\"../output/data_Quarantine_labelled.csv\",encoding='utf-8-sig')\n",
    "print(\"Saved.\")"
   ]
  },
  {
   "cell_type": "markdown",
   "id": "b1e418dd",
   "metadata": {
    "id": "b1e418dd"
   },
   "source": [
    "# Label - Non-Quarantine reviews"
   ]
  },
  {
   "cell_type": "code",
   "execution_count": null,
   "id": "16361d1d",
   "metadata": {
    "id": "16361d1d"
   },
   "outputs": [],
   "source": [
    "NonQuan = pd.read_excel('../data/data_NonQuarantine.xlsx', sheet_name='data')"
   ]
  },
  {
   "cell_type": "code",
   "execution_count": null,
   "id": "afa287d8",
   "metadata": {
    "id": "afa287d8"
   },
   "outputs": [],
   "source": [
    "#combine review title and review main text content\n",
    "NonQuan[\"customer review text all\"] = NonQuan[\"customer review Title\"].astype(str) + \" \" + NonQuan[\"customer review text\"].astype(str)\n",
    "\n",
    "#lowercase\n",
    "NonQuan[\"customer review text all\"] = NonQuan[\"customer review text all\"].str.lower()\n",
    "NonQuan[\"hotel reply text\"] = NonQuan[\"hotel reply text\"].str.lower()"
   ]
  },
  {
   "cell_type": "code",
   "execution_count": null,
   "id": "8f74e4c1",
   "metadata": {
    "id": "8f74e4c1"
   },
   "outputs": [],
   "source": [
    "#new columns for labelling, see if text contain keyword, mark yes for 1 , no for 0\n",
    "\n",
    "NonQuan['label_air'] = np.where(NonQuan['customer review text all'].str.contains('( air )|(air-con)'),1,0)\n",
    "NonQuan['label_facilities'] = np.where(NonQuan['customer review text all'].str.contains('(?=.*amenit)|(?=.*facilit)|(?=.*gym)|(?=.*pool)|(?=.*swim)|(?=.*yoga)'),1,0)\n",
    "NonQuan['label_food'] = np.where(NonQuan['customer review text all'].str.contains('(?=.*breakfast)|(?=.*buffet)|(?=.*delici)|(?=.*dinner)|(?=.*dish)|(?=.*food)|(?=.*lunch)|(?=.*meal)|(?=.*restaurant)|(?=.*taste)|(?=.*tea)'),1,0)\n",
    "NonQuan['label_hygiene'] = np.where(NonQuan['customer review text all'].str.contains('(?=.*clean)|(?=.*contactless)|(?=.*detergent)|(?=.*dirt)|(?=.*disinfect)|(?=.*health)|(?=.*hygien)|(?=.*safe)|(?=.*sanitiser)|(?=.*sanitizer)'),1,0)\n",
    "NonQuan['label_infoSeeking'] = np.where(NonQuan['customer review text all'].str.contains('(?=.*call)|(?=.*communicat)|(?=.*deliver)|(?=.*efficient)|(?=.*email)|(?=.*immediate)|(?=.*info)|(?=.*message)|(?=.*phone)|(?=.*prompt)|(?=.*request)|(?=.*respon)|(?=.*suppl)|(?=.*whatsapp)'),1,0)\n",
    "NonQuan['label_location'] = np.where(NonQuan['customer review text all'].str.contains('(?=.*loc)|(?=.*mtr)|(?=.*subway)|(?=.*transport)|(?=.*walk)'),1,0)\n",
    "NonQuan['label_price'] = np.where(NonQuan['customer review text all'].str.contains('(?=.*budget)|(?=.*charge)|(?=.*compens)|(?=.*cost)|(?=.*money)|(?=.*price)|(?=.*upgrade)|(?=.*value)|(?=.*worth)'),1,0)\n",
    "NonQuan['label_room'] = np.where(NonQuan['customer review text all'].str.contains('(?=.*bathroom)|(?=.*bed)|(?=.*fridge)|(?=.*harbo)|(?=.*light)|(?=.*nois)|(?=.*quiet)|(?=.*sea)|(?=.*shower)|(?=.*spac)|(?=.*table)|(?=.*toilet)|(?=.*view)|(?=.*window)'),1,0)\n",
    "NonQuan['label_service'] = np.where(NonQuan['customer review text all'].str.contains('(?=.*considerate)|(?=.*effort)|(?=.*friendl)|(?=.*help)|(?=.*kind)|(?=.*manager)|(?=.*profession)|(?=.*reception)|(?=.*rude)|(?=.*service)|(?=.*staff)|(?=.*support)'),1,0)\n",
    "NonQuan['label_wifi'] = np.where(NonQuan['customer review text all'].str.contains('(?=.*internet)|(?=.*wi-fi)|(?=.*wifi)'),1,0)\n"
   ]
  },
  {
   "cell_type": "code",
   "execution_count": null,
   "id": "861ab20a",
   "metadata": {
    "id": "861ab20a",
    "outputId": "ccdba69d-3276-466e-815b-afb42f7236c3"
   },
   "outputs": [
    {
     "name": "stdout",
     "output_type": "stream",
     "text": [
      "Saved.\n"
     ]
    }
   ],
   "source": [
    "NonQuan.to_csv(\"../output/data_NonQuarantine_labelled.csv\",encoding='utf-8-sig')\n",
    "print(\"Saved.\")"
   ]
  }
 ],
 "metadata": {
  "colab": {
   "collapsed_sections": [],
   "name": "1_dataPreprocessing_Labelling.ipynb",
   "provenance": []
  },
  "kernelspec": {
   "display_name": "Python 3",
   "language": "python",
   "name": "python3"
  },
  "language_info": {
   "codemirror_mode": {
    "name": "ipython",
    "version": 3
   },
   "file_extension": ".py",
   "mimetype": "text/x-python",
   "name": "python",
   "nbconvert_exporter": "python",
   "pygments_lexer": "ipython3",
   "version": "3.8.8"
  }
 },
 "nbformat": 4,
 "nbformat_minor": 5
}
